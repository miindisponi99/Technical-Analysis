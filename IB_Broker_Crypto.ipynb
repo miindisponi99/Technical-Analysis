{
 "cells": [
  {
   "cell_type": "code",
   "execution_count": 110,
   "id": "133f9731",
   "metadata": {},
   "outputs": [
    {
     "name": "stdout",
     "output_type": "stream",
     "text": [
      "The autoreload extension is already loaded. To reload it, use:\n",
      "  %reload_ext autoreload\n"
     ]
    }
   ],
   "source": [
    "import warnings\n",
    "import asyncio\n",
    "import nest_asyncio\n",
    "\n",
    "import yfinance as yf\n",
    "\n",
    "from IB_strats import *\n",
    "\n",
    "%load_ext autoreload\n",
    "%autoreload 2\n",
    "\n",
    "warnings.filterwarnings('ignore', category=FutureWarning)"
   ]
  },
  {
   "cell_type": "code",
   "execution_count": 111,
   "id": "706e0ffd",
   "metadata": {},
   "outputs": [],
   "source": [
    "async def run_strategy():\n",
    "    ib = IB()\n",
    "    await ib.connectAsync('127.0.0.1', 7497, clientId=1)\n",
    "    try:\n",
    "        ticker = 'ETH-USD'\n",
    "        start_date = datetime(2020, 1, 1)\n",
    "        end_date = date.today() - timedelta(days=1)\n",
    "        eth_data = dati_giornalieri(ticker, start_date, end_date)\n",
    "        capital = 100\n",
    "        asset = 'ETH'\n",
    "        trade_signals_aaronx = signals_aaron_x(eth_data, asset, capital)\n",
    "        trade_signals_aarony = signals_aaron_y(eth_data, asset, capital)\n",
    "        trade_signals_obv = signals_obv(eth_data, asset, capital)\n",
    "        trade_signals_kama = signals_kama(eth_data, asset, capital)\n",
    "        trade_signals_stoch = signals_stoch(eth_data, asset, capital)\n",
    "        trade_signals_psar = signals_psar(eth_data, asset, capital)\n",
    "        execute_trades_aaron_x(ib, trade_signals_aaronx)\n",
    "        execute_trades_aaron_y(ib, trade_signals_aarony)\n",
    "        execute_trades_obv(ib, trade_signals_obv)\n",
    "        execute_trades_kama(ib, trade_signals_kama)\n",
    "        execute_trades_stoch(ib, trade_signals_stoch)\n",
    "        execute_trades_psar(ib, trade_signals_psar)\n",
    "    except Exception as e:\n",
    "        print(f\"Error in run_strategy: {e}\")\n",
    "    finally:\n",
    "        ib.disconnect()"
   ]
  },
  {
   "cell_type": "code",
   "execution_count": 112,
   "id": "f1eed774",
   "metadata": {},
   "outputs": [
    {
     "name": "stdout",
     "output_type": "stream",
     "text": [
      "[*********************100%***********************]  1 of 1 completed\n",
      "AaronX Strategy\n",
      "AaronY Strategy\n",
      "OBV Strategy\n",
      "KAMA Strategy\n",
      "Stochastic Strategy\n",
      "SAR Strategy\n"
     ]
    }
   ],
   "source": [
    "await run_strategy()"
   ]
  },
  {
   "cell_type": "code",
   "execution_count": 113,
   "id": "af2d9727",
   "metadata": {},
   "outputs": [],
   "source": [
    "async def schedule_daily_run():\n",
    "    market_open_time = datetime.now().replace(hour=9, minute=30)\n",
    "    while True:\n",
    "        current_time = datetime.now()\n",
    "        if current_time < market_open_time:\n",
    "            sleep_seconds = (market_open_time - current_time).total_seconds()\n",
    "            await asyncio.sleep(sleep_seconds)\n",
    "            await run_strategy()\n",
    "        await asyncio.sleep(24*60*60)"
   ]
  },
  {
   "cell_type": "code",
   "execution_count": null,
   "id": "18f87c55",
   "metadata": {},
   "outputs": [],
   "source": [
    "await schedule_daily_run()"
   ]
  }
 ],
 "metadata": {
  "kernelspec": {
   "display_name": "Python 3 (ipykernel)",
   "language": "python",
   "name": "python3"
  },
  "language_info": {
   "codemirror_mode": {
    "name": "ipython",
    "version": 3
   },
   "file_extension": ".py",
   "mimetype": "text/x-python",
   "name": "python",
   "nbconvert_exporter": "python",
   "pygments_lexer": "ipython3",
   "version": "3.10.13"
  }
 },
 "nbformat": 4,
 "nbformat_minor": 5
}
